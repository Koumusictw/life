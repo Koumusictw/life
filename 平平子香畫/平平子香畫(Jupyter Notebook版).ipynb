{
 "cells": [
  {
   "cell_type": "code",
   "execution_count": 3,
   "id": "d4b19ad6",
   "metadata": {},
   "outputs": [
    {
     "data": {
      "text/plain": [
       "-1"
      ]
     },
     "execution_count": 3,
     "metadata": {},
     "output_type": "execute_result"
    }
   ],
   "source": [
    "import cv2                    # 匯入 OpenCV 函式庫\n",
    "img = cv2.imread('d4bb727feb0e7f6844c000d63b2c2fbb.jpg')  # 讀取圖片\n",
    "cv2.imshow('Padko',img)        # 賦予開啟的視窗名稱，開啟圖片\n",
    "cv2.waitKey(0)                # 設定 0 表示不要主動關閉視窗\n",
    "#由小冰製作\n",
    "#第一次用Jupyter Notebook寫"
   ]
  },
  {
   "cell_type": "code",
   "execution_count": null,
   "id": "658374c1",
   "metadata": {},
   "outputs": [],
   "source": []
  }
 ],
 "metadata": {
  "kernelspec": {
   "display_name": "Python 3 (ipykernel)",
   "language": "python",
   "name": "python3"
  },
  "language_info": {
   "codemirror_mode": {
    "name": "ipython",
    "version": 3
   },
   "file_extension": ".py",
   "mimetype": "text/x-python",
   "name": "python",
   "nbconvert_exporter": "python",
   "pygments_lexer": "ipython3",
   "version": "3.9.13"
  }
 },
 "nbformat": 4,
 "nbformat_minor": 5
}
